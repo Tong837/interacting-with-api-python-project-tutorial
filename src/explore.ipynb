{
    "cells": [
        {
            "cell_type": "markdown",
            "metadata": {},
            "source": [
                "# Explore here"
            ]
        },
        {
            "cell_type": "code",
            "execution_count": 12,
            "metadata": {},
            "outputs": [
                {
                    "name": "stdout",
                    "output_type": "stream",
                    "text": [
                        "Name: seaborn\n",
                        "Version: 0.13.2\n",
                        "Summary: Statistical data visualization\n",
                        "Home-page: \n",
                        "Author: \n",
                        "Author-email: Michael Waskom <mwaskom@gmail.com>\n",
                        "License: \n",
                        "Location: /home/vscode/.local/lib/python3.11/site-packages\n",
                        "Requires: matplotlib, numpy, pandas\n",
                        "Required-by: \n"
                    ]
                }
            ],
            "source": [
                "\n",
                "! pip show seaborn\n"
            ]
        },
        {
            "cell_type": "code",
            "execution_count": null,
            "metadata": {},
            "outputs": [
                {
                    "name": "stdout",
                    "output_type": "stream",
                    "text": [
                        "                  Cancion  Popularidad  Duración\n",
                        "0            It's Alright           53  3.427617\n",
                        "1       Sweet Little Lady           52  2.683333\n",
                        "2                Precious           48  3.419033\n",
                        "3      I Shot the Sheriff           46  5.733333\n",
                        "4  Englishman in New York           42  4.308217\n",
                        "5          Xbox Marijuana           38  2.840600\n",
                        "6                 Dignity           38  3.570233\n",
                        "7                  Icarus           38  2.654267\n",
                        "8           All My Heroes           37  5.071250\n",
                        "9       Wade in the Water           37  6.150000\n"
                    ]
                }
            ],
            "source": [
                "import os\n",
                "from dotenv import load_dotenv\n",
                "import spotipy\n",
                "from spotipy.oauth2 import SpotifyClientCredentials\n",
                "import pandas as pd \n",
                "\n",
                "\n",
                "load_dotenv()\n",
                "\n",
                "SPOTIPY_CLIENT_ID = os.environ.get(\"SPOTIPY_CLIENT_ID\")\n",
                "SPOTIPY_CLIENT_SECRET = os.environ.get(\"SPOTIPY_CLIENT_SECRET\")\n",
                "\n",
                "auth_manager = SpotifyClientCredentials()\n",
                "spotify = spotipy.Spotify(auth_manager=auth_manager)\n",
                "\n",
                "id_artista=\"4AOiNpcmfXTiWDB3uFszgn\"\n",
                "\n",
                "results = spotify.artist_top_tracks(id_artista)\n",
                "\n",
                "data = []\n",
                "\n",
                "\n",
                "for track in results['tracks'][:10]:\n",
                "    data.append({\n",
                "         \"Cancion\": track['name'],\n",
                "         \"Popularidad\": track['popularity'],\n",
                "         \"Duración\": (track['duration_ms']/(1000*60)%60)\n",
                "    })\n",
                "    \n",
                "\n",
                "\n",
                "df = pd.DataFrame(data)\n",
                "df_sorted = df.sort_values(by=\"Popularidad\", ascending=True)\n",
                "print(df)\n",
                "\n",
                "\n"
            ]
        },
        {
            "cell_type": "code",
            "execution_count": 15,
            "metadata": {},
            "outputs": [
                {
                    "data": {
                        "image/png": "[encoded data removed]",
                        "text/plain": [
                            "<Figure size 640x480 with 1 Axes>"
                        ]
                    },
                    "metadata": {},
                    "output_type": "display_data"
                }
            ],
            "source": [
                "import seaborn as sns\n",
                "scatter_plot= sns.scatterplot(x=df[\"Duración\"], y= df[\"Popularidad\"], color=\"orange\")"
            ]
        },
        {
            "cell_type": "markdown",
            "metadata": {},
            "source": [
                "* CONCLUSIÓN\n",
                "\n",
                "En el caso de esta banda musical, la popularidad de sus canciones no está relacionada con la duración de las mismas."
            ]
        }
    ],
    "metadata": {
        "kernelspec": {
            "display_name": "Python 3",
            "language": "python",
            "name": "python3"
        },
        "language_info": {
            "codemirror_mode": {
                "name": "ipython",
                "version": 3
            },
            "file_extension": ".py",
            "mimetype": "text/x-python",
            "name": "python",
            "nbconvert_exporter": "python",
            "pygments_lexer": "ipython3",
            "version": "3.11.4"
        },
        "orig_nbformat": 4
    },
    "nbformat": 4,
    "nbformat_minor": 2
}
